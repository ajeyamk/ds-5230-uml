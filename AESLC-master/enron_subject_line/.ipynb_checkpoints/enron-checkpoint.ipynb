{
 "cells": [
  {
   "cell_type": "code",
   "execution_count": 12,
   "metadata": {},
   "outputs": [],
   "source": [
    "import pandas as pd\n",
    "import os"
   ]
  },
  {
   "cell_type": "code",
   "execution_count": 13,
   "metadata": {},
   "outputs": [],
   "source": [
    "DEV_ENV = '\\\\dev'\n",
    "TEST_ENV = '\\\\test'\n",
    "TRAIN_ENV = '\\\\train'"
   ]
  },
  {
   "cell_type": "code",
   "execution_count": 14,
   "metadata": {},
   "outputs": [
    {
     "data": {
      "text/plain": [
       "'C:\\\\Users\\\\Ajeya.Kempegowda\\\\Documents\\\\ajeya\\\\enron\\\\AESLC-master\\\\enron_subject_line\\\\train'"
      ]
     },
     "execution_count": 14,
     "metadata": {},
     "output_type": "execute_result"
    }
   ],
   "source": [
    "train_path = os.getcwd()+TRAIN_ENV\n",
    "train_path"
   ]
  },
  {
   "cell_type": "code",
   "execution_count": 15,
   "metadata": {},
   "outputs": [],
   "source": [
    "# separating received and sent emails\n",
    "inbox_file_list, sent_file_list = [],[]\n",
    "for filename in os.listdir(train_path):\n",
    "    if 'inbox' in filename:\n",
    "        inbox_file_list.append(filename)\n",
    "    else:\n",
    "        sent_file_list.append(filename)"
   ]
  },
  {
   "cell_type": "code",
   "execution_count": 16,
   "metadata": {},
   "outputs": [
    {
     "data": {
      "text/plain": [
       "'Greg/Phillip,  Attached is the Grande Communications Service Agreement.\\nThe business points can be found in Exhibit C.  I Can get the Non-Disturbance agreement after it has been executed by you and Grande.\\nI will fill in the Legal description of the property one I have received it.\\nPlease execute and send to:  Grande Communications, 401 Carlson Circle, San Marcos Texas, 78666 Attention Hunter Williams.\\n<<Bishopscontract.doc>>\\n\\n@subject\\nService Agreement'"
      ]
     },
     "execution_count": 16,
     "metadata": {},
     "output_type": "execute_result"
    }
   ],
   "source": [
    "# Quick smoke test\n",
    "with open(train_path + \"\\\\\" + inbox_file_list[0], 'r') as f:\n",
    "    file_content = f.read()\n",
    "file_content"
   ]
  },
  {
   "cell_type": "code",
   "execution_count": 17,
   "metadata": {},
   "outputs": [
    {
     "data": {
      "text/plain": [
       "['allen-p', '_20.subject']"
      ]
     },
     "execution_count": 17,
     "metadata": {},
     "output_type": "execute_result"
    }
   ],
   "source": [
    "# We can extract user name from the received file name\n",
    "inbox_file_list[0].split(\"_inbox\")"
   ]
  },
  {
   "cell_type": "code",
   "execution_count": 18,
   "metadata": {},
   "outputs": [],
   "source": [
    "def _remove_spaces(s):\n",
    "    \"\"\"\n",
    "    Input: List of strings\n",
    "    Logic: Removes empty strings in the list and joins strings in the list to form a sentence\n",
    "    return value: A string\n",
    "    \"\"\"\n",
    "    return (\" \".join(list(filter(None, s.split(\"\\n\")))))\n",
    "    \n",
    "\n",
    "def _getdf(file_dir, file_list, delimiter=\"_inbox\"):\n",
    "    \"\"\"\n",
    "    Input: Project directory(string), list of file names and delimter to split text\n",
    "    Logic: \n",
    "        1. Iterates through all files in the directory and reads the text.\n",
    "        2. Separated email body and subject line\n",
    "        3. Processes the text to remove empty quotes\n",
    "    return value: Pandas Dataframe of email body, subject line and other required information.\n",
    "    \"\"\"\n",
    "    email_body_list, subject_line_list, user_list, email_id_list = [], [], [], []\n",
    "\n",
    "    # open files and parse the data\n",
    "    for emails in file_list:\n",
    "        with open(file_dir + \"\\\\\" + emails, 'r') as f:\n",
    "            try:\n",
    "                file_content = f.read()\n",
    "                # to separate email body from subject line\n",
    "                doc_split = file_content.split(\"@subject\")\n",
    "                email_body_list.append(_remove_spaces(doc_split[0]))\n",
    "                subject_line_list.append(doc_split[1])\n",
    "                # split file name string to get user and email category(sent/received)                 \n",
    "                file_name_split = emails.split(delimiter)\n",
    "                user_list.append(file_name_split[0])\n",
    "                # email id as unique identifier                 \n",
    "                email_id_list.append(file_name_split[1])\n",
    "            except Exception as e:\n",
    "                print(e)\n",
    "                continue\n",
    "    # construct tidy data \n",
    "    df = pd.DataFrame(data={'e_id': email_id_list,\n",
    "                            'email_body':email_body_list,\n",
    "                            'subject_line':subject_line_list,\n",
    "                            'user':user_list})\n",
    "    df['subject_line'] = df['subject_line'].apply(lambda x: x.strip('\\n'))\n",
    "    return(df)"
   ]
  },
  {
   "cell_type": "code",
   "execution_count": 19,
   "metadata": {},
   "outputs": [
    {
     "data": {
      "text/html": [
       "<div>\n",
       "<style scoped>\n",
       "    .dataframe tbody tr th:only-of-type {\n",
       "        vertical-align: middle;\n",
       "    }\n",
       "\n",
       "    .dataframe tbody tr th {\n",
       "        vertical-align: top;\n",
       "    }\n",
       "\n",
       "    .dataframe thead th {\n",
       "        text-align: right;\n",
       "    }\n",
       "</style>\n",
       "<table border=\"1\" class=\"dataframe\">\n",
       "  <thead>\n",
       "    <tr style=\"text-align: right;\">\n",
       "      <th></th>\n",
       "      <th>e_id</th>\n",
       "      <th>email_body</th>\n",
       "      <th>subject_line</th>\n",
       "      <th>user</th>\n",
       "    </tr>\n",
       "  </thead>\n",
       "  <tbody>\n",
       "    <tr>\n",
       "      <th>0</th>\n",
       "      <td>_20.subject</td>\n",
       "      <td>Greg/Phillip,  Attached is the Grande Communic...</td>\n",
       "      <td>Service Agreement</td>\n",
       "      <td>allen-p</td>\n",
       "    </tr>\n",
       "    <tr>\n",
       "      <th>1</th>\n",
       "      <td>_28.subject</td>\n",
       "      <td>Phillip &amp; Keith  Attached is the first draw re...</td>\n",
       "      <td>Bishops Corner</td>\n",
       "      <td>allen-p</td>\n",
       "    </tr>\n",
       "    <tr>\n",
       "      <th>2</th>\n",
       "      <td>_63.subject</td>\n",
       "      <td>Your Internet Banking accounts are now setup a...</td>\n",
       "      <td>Internet Banking</td>\n",
       "      <td>allen-p</td>\n",
       "    </tr>\n",
       "    <tr>\n",
       "      <th>3</th>\n",
       "      <td>_64.subject</td>\n",
       "      <td>To our IBS Customers that are still hanging in...</td>\n",
       "      <td>Internet Banking</td>\n",
       "      <td>allen-p</td>\n",
       "    </tr>\n",
       "    <tr>\n",
       "      <th>4</th>\n",
       "      <td>_65.subject</td>\n",
       "      <td>Phillip Good Morning! I hope you had a wonderf...</td>\n",
       "      <td>SMEs for expert stories</td>\n",
       "      <td>allen-p</td>\n",
       "    </tr>\n",
       "  </tbody>\n",
       "</table>\n",
       "</div>"
      ],
      "text/plain": [
       "          e_id                                         email_body  \\\n",
       "0  _20.subject  Greg/Phillip,  Attached is the Grande Communic...   \n",
       "1  _28.subject  Phillip & Keith  Attached is the first draw re...   \n",
       "2  _63.subject  Your Internet Banking accounts are now setup a...   \n",
       "3  _64.subject  To our IBS Customers that are still hanging in...   \n",
       "4  _65.subject  Phillip Good Morning! I hope you had a wonderf...   \n",
       "\n",
       "              subject_line     user  \n",
       "0        Service Agreement  allen-p  \n",
       "1           Bishops Corner  allen-p  \n",
       "2         Internet Banking  allen-p  \n",
       "3         Internet Banking  allen-p  \n",
       "4  SMEs for expert stories  allen-p  "
      ]
     },
     "execution_count": 19,
     "metadata": {},
     "output_type": "execute_result"
    }
   ],
   "source": [
    "received_emails = _getdf(train_path, inbox_file_list)\n",
    "received_emails.head()"
   ]
  },
  {
   "cell_type": "code",
   "execution_count": 20,
   "metadata": {},
   "outputs": [
    {
     "name": "stdout",
     "output_type": "stream",
     "text": [
      "(8062, 4)\n"
     ]
    },
    {
     "data": {
      "text/html": [
       "<div>\n",
       "<style scoped>\n",
       "    .dataframe tbody tr th:only-of-type {\n",
       "        vertical-align: middle;\n",
       "    }\n",
       "\n",
       "    .dataframe tbody tr th {\n",
       "        vertical-align: top;\n",
       "    }\n",
       "\n",
       "    .dataframe thead th {\n",
       "        text-align: right;\n",
       "    }\n",
       "</style>\n",
       "<table border=\"1\" class=\"dataframe\">\n",
       "  <thead>\n",
       "    <tr style=\"text-align: right;\">\n",
       "      <th></th>\n",
       "      <th>e_id</th>\n",
       "      <th>email_body</th>\n",
       "      <th>subject_line</th>\n",
       "      <th>user</th>\n",
       "    </tr>\n",
       "  </thead>\n",
       "  <tbody>\n",
       "    <tr>\n",
       "      <th>count</th>\n",
       "      <td>8062</td>\n",
       "      <td>8062</td>\n",
       "      <td>8062</td>\n",
       "      <td>8062</td>\n",
       "    </tr>\n",
       "    <tr>\n",
       "      <th>unique</th>\n",
       "      <td>1522</td>\n",
       "      <td>7170</td>\n",
       "      <td>6599</td>\n",
       "      <td>135</td>\n",
       "    </tr>\n",
       "    <tr>\n",
       "      <th>top</th>\n",
       "      <td>_19.subject</td>\n",
       "      <td>Dear Power Outage Database Customer,  Attached...</td>\n",
       "      <td>Expense Reports Awaiting Your Approval</td>\n",
       "      <td>lay-k</td>\n",
       "    </tr>\n",
       "    <tr>\n",
       "      <th>freq</th>\n",
       "      <td>32</td>\n",
       "      <td>15</td>\n",
       "      <td>39</td>\n",
       "      <td>472</td>\n",
       "    </tr>\n",
       "  </tbody>\n",
       "</table>\n",
       "</div>"
      ],
      "text/plain": [
       "               e_id                                         email_body  \\\n",
       "count          8062                                               8062   \n",
       "unique         1522                                               7170   \n",
       "top     _19.subject  Dear Power Outage Database Customer,  Attached...   \n",
       "freq             32                                                 15   \n",
       "\n",
       "                                  subject_line   user  \n",
       "count                                     8062   8062  \n",
       "unique                                    6599    135  \n",
       "top     Expense Reports Awaiting Your Approval  lay-k  \n",
       "freq                                        39    472  "
      ]
     },
     "execution_count": 20,
     "metadata": {},
     "output_type": "execute_result"
    }
   ],
   "source": [
    "print(received_emails.shape)\n",
    "received_emails.describe()"
   ]
  },
  {
   "cell_type": "code",
   "execution_count": 21,
   "metadata": {},
   "outputs": [
    {
     "data": {
      "text/plain": [
       "\"Wade,   I understood your number one priority was to deal with your vehicle  situation.\\nYou need to take care of it this week.\\nLucy can't hold the  tenants to a standard (vehicles must be in running order with valid stickers)  if the staff doesn't live up to it.\\nIf you decide to buy a small truck and  you want to list me as an employer for credit purposes, I will vouch for your  income.\\nPhillip\\n\\n@subject\\nFor Wade\""
      ]
     },
     "execution_count": 21,
     "metadata": {},
     "output_type": "execute_result"
    }
   ],
   "source": [
    "# smoke test on sent emails\n",
    "with open(train_path + \"\\\\\" + sent_file_list[0], 'r') as f:\n",
    "    file_content = f.read()\n",
    "file_content"
   ]
  },
  {
   "cell_type": "code",
   "execution_count": 22,
   "metadata": {},
   "outputs": [
    {
     "data": {
      "text/plain": [
       "['allen-p', '_161.subject']"
      ]
     },
     "execution_count": 22,
     "metadata": {},
     "output_type": "execute_result"
    }
   ],
   "source": [
    "# We can extract user name from the sent file name\n",
    "sent_file_list[0].split(\"_sent\")"
   ]
  },
  {
   "cell_type": "code",
   "execution_count": 23,
   "metadata": {},
   "outputs": [
    {
     "data": {
      "text/plain": [
       "6374"
      ]
     },
     "execution_count": 23,
     "metadata": {},
     "output_type": "execute_result"
    }
   ],
   "source": [
    "len(sent_file_list)"
   ]
  },
  {
   "cell_type": "code",
   "execution_count": 24,
   "metadata": {},
   "outputs": [
    {
     "data": {
      "text/html": [
       "<div>\n",
       "<style scoped>\n",
       "    .dataframe tbody tr th:only-of-type {\n",
       "        vertical-align: middle;\n",
       "    }\n",
       "\n",
       "    .dataframe tbody tr th {\n",
       "        vertical-align: top;\n",
       "    }\n",
       "\n",
       "    .dataframe thead th {\n",
       "        text-align: right;\n",
       "    }\n",
       "</style>\n",
       "<table border=\"1\" class=\"dataframe\">\n",
       "  <thead>\n",
       "    <tr style=\"text-align: right;\">\n",
       "      <th></th>\n",
       "      <th>e_id</th>\n",
       "      <th>email_body</th>\n",
       "      <th>subject_line</th>\n",
       "      <th>user</th>\n",
       "    </tr>\n",
       "  </thead>\n",
       "  <tbody>\n",
       "    <tr>\n",
       "      <th>0</th>\n",
       "      <td>_161.subject</td>\n",
       "      <td>Wade,   I understood your number one priority ...</td>\n",
       "      <td>For Wade</td>\n",
       "      <td>allen-p</td>\n",
       "    </tr>\n",
       "    <tr>\n",
       "      <th>1</th>\n",
       "      <td>_251.subject</td>\n",
       "      <td>Will,   Here is a list of the top items we nee...</td>\n",
       "      <td>Priority List</td>\n",
       "      <td>allen-p</td>\n",
       "    </tr>\n",
       "    <tr>\n",
       "      <th>2</th>\n",
       "      <td>_3.subject</td>\n",
       "      <td>Christy,   I read these points and they defini...</td>\n",
       "      <td>Talking points about California Gas market</td>\n",
       "      <td>allen-p</td>\n",
       "    </tr>\n",
       "    <tr>\n",
       "      <th>3</th>\n",
       "      <td>_50.subject</td>\n",
       "      <td>Jed,   I understand you have been contacted re...</td>\n",
       "      <td>Enron</td>\n",
       "      <td>allen-p</td>\n",
       "    </tr>\n",
       "    <tr>\n",
       "      <th>4</th>\n",
       "      <td>_500.subject</td>\n",
       "      <td>Griff,    Can you accomodate Dexter as we have...</td>\n",
       "      <td>NGI access to eol</td>\n",
       "      <td>allen-p</td>\n",
       "    </tr>\n",
       "  </tbody>\n",
       "</table>\n",
       "</div>"
      ],
      "text/plain": [
       "           e_id                                         email_body  \\\n",
       "0  _161.subject  Wade,   I understood your number one priority ...   \n",
       "1  _251.subject  Will,   Here is a list of the top items we nee...   \n",
       "2    _3.subject  Christy,   I read these points and they defini...   \n",
       "3   _50.subject  Jed,   I understand you have been contacted re...   \n",
       "4  _500.subject  Griff,    Can you accomodate Dexter as we have...   \n",
       "\n",
       "                                 subject_line     user  \n",
       "0                                    For Wade  allen-p  \n",
       "1                               Priority List  allen-p  \n",
       "2  Talking points about California Gas market  allen-p  \n",
       "3                                       Enron  allen-p  \n",
       "4                           NGI access to eol  allen-p  "
      ]
     },
     "execution_count": 24,
     "metadata": {},
     "output_type": "execute_result"
    }
   ],
   "source": [
    "sent_emails = _getdf(train_path, sent_file_list, delimiter=\"_sent\")\n",
    "sent_emails.head()"
   ]
  },
  {
   "cell_type": "code",
   "execution_count": 28,
   "metadata": {},
   "outputs": [],
   "source": [
    "received_emails.to_csv(train_path+\"-received.csv\")\n",
    "sent_emails.to_csv(train_path+\"-sent.csv\")"
   ]
  },
  {
   "cell_type": "code",
   "execution_count": 26,
   "metadata": {},
   "outputs": [],
   "source": [
    "with open(train_path + \"\\\\\" + 'arnold-j_inbox_36.subject', 'r') as f:\n",
    "    file_content = f.read()\n",
    "    # to separate email body from subject line\n",
    "    doc_split = file_content.split(\"@subject\")"
   ]
  },
  {
   "cell_type": "code",
   "execution_count": null,
   "metadata": {},
   "outputs": [],
   "source": []
  },
  {
   "cell_type": "code",
   "execution_count": null,
   "metadata": {},
   "outputs": [],
   "source": []
  }
 ],
 "metadata": {
  "kernelspec": {
   "display_name": "Python 3",
   "language": "python",
   "name": "python3"
  },
  "language_info": {
   "codemirror_mode": {
    "name": "ipython",
    "version": 3
   },
   "file_extension": ".py",
   "mimetype": "text/x-python",
   "name": "python",
   "nbconvert_exporter": "python",
   "pygments_lexer": "ipython3",
   "version": "3.7.6"
  }
 },
 "nbformat": 4,
 "nbformat_minor": 4
}
